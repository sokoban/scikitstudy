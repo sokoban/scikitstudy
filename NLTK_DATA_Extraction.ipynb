{
 "cells": [
  {
   "cell_type": "code",
   "execution_count": 14,
   "metadata": {},
   "outputs": [
    {
     "name": "stdout",
     "output_type": "stream",
     "text": [
      "1176896\n",
      "<type 'list'>\n",
      "254352\n"
     ]
    }
   ],
   "source": [
    "from __future__ import division\n",
    "import nltk, re, pprint\n",
    "from nltk import word_tokenize\n",
    "\n",
    "from urllib2 import urlopen\n",
    "import urllib2\n",
    "\n",
    "url = \"http://www.gutenberg.org/files/2554/2554.txt\"\n",
    "req = urllib2.Request(url)\n",
    "response = urllib2.urlopen(req)\n",
    "the_page = response.read()\n",
    "\n",
    "print(len(the_page) )\n",
    "\n",
    "tokens = word_tokenize(the_page)\n",
    "print( type(tokens) )\n",
    "print( len(tokens) )\n",
    "tokens[:10]\n",
    "\n",
    "text = nltk.Text(tokens)"
   ]
  }
 ],
 "metadata": {
  "kernelspec": {
   "display_name": "Python 2",
   "language": "python",
   "name": "python2"
  },
  "language_info": {
   "codemirror_mode": {
    "name": "ipython",
    "version": 2
   },
   "file_extension": ".py",
   "mimetype": "text/x-python",
   "name": "python",
   "nbconvert_exporter": "python",
   "pygments_lexer": "ipython2",
   "version": "2.7.5"
  }
 },
 "nbformat": 4,
 "nbformat_minor": 2
}
