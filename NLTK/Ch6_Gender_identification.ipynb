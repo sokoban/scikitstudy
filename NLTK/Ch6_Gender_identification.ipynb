{
 "cells": [
  {
   "cell_type": "code",
   "execution_count": 47,
   "metadata": {
    "collapsed": false
   },
   "outputs": [
    {
     "name": "stdout",
     "output_type": "stream",
     "text": [
      "[('Valentine', 'female'), ('Delmar', 'male'), ('Clarie', 'female'), ('Euphemia', 'female'), ('Stefano', 'male'), ('Taylor', 'male'), ('Greggory', 'male'), ('Kirby', 'female'), ('Hollis', 'male'), ('Madel', 'female'), ('Galina', 'female'), ('Joey', 'female'), ('Kaitlynn', 'female'), ('Dyna', 'female'), ('Rebekkah', 'female'), ('Bettie', 'female'), ('Virge', 'male'), ('Patsy', 'male'), ('Dita', 'female'), ('Eben', 'male')]\n"
     ]
    }
   ],
   "source": [
    "\"\"\"\n",
    "Natural Language Processing with Python - Chapter 6\n",
    "\n",
    "http://nltk.org/book/ch06.html\n",
    "\"\"\"\n",
    "\n",
    "import nltk\n",
    "import random\n",
    "#from show import show\n",
    "\n",
    "def gender_features(word):\n",
    "    return {'last_letter': word[-3:]}\n",
    "\n",
    "names = ([(name, 'male') for name in nltk.corpus.names.words('male.txt')] + \\\n",
    "        [(name, 'female') for name in nltk.corpus.names.words('female.txt')])\n",
    "random.shuffle(names)\n",
    "#show(names[0:4])\n",
    "\n",
    "print(names[0:20])\n"
   ]
  },
  {
   "cell_type": "code",
   "execution_count": 48,
   "metadata": {
    "collapsed": false
   },
   "outputs": [
    {
     "name": "stdout",
     "output_type": "stream",
     "text": [
      "{'last_letter': 'Neo'}\n",
      "female\n",
      "female\n",
      "female\n",
      "female\n",
      "female\n",
      "0.72\n",
      "Most Informative Features\n",
      "             last_letter = 'ard'            male : female =     29.5 : 1.0\n",
      "             last_letter = 'ana'          female : male   =     26.4 : 1.0\n",
      "             last_letter = 'tta'          female : male   =     25.5 : 1.0\n",
      "             last_letter = 'nne'          female : male   =     20.5 : 1.0\n",
      "             last_letter = 'old'            male : female =     16.1 : 1.0\n"
     ]
    }
   ],
   "source": [
    "featuresets = [(gender_features(n), g) for (n,g) in names]\n",
    "train_set, test_set = featuresets[500:], featuresets[:500]\n",
    "\n",
    "classifier = nltk.NaiveBayesClassifier.train(train_set)\n",
    "\n",
    "print(gender_features('Neo'))\n",
    "\n",
    "print(classifier.classify(gender_features('Neo')) )\n",
    "# 'male'\n",
    "print( classifier.classify(gender_features('Trinity')) )\n",
    "print( classifier.classify(gender_features('Snoopy')) )\n",
    "print( classifier.classify(gender_features('gamja')) )\n",
    "print( classifier.classify(gender_features('fjksdjfsdlt')) )\n",
    "# 'female'\n",
    "print( nltk.classify.accuracy(classifier, test_set) )\n",
    "# 0.758\n",
    "classifier.show_most_informative_features(5)\n",
    "# Most Informative Features\n",
    "#              last_letter = 'a'            female : male   =     38.3 : 1.0\n",
    "#              last_letter = 'k'              male : female =     31.4 : 1.0\n",
    "#              last_letter = 'f'              male : female =     15.3 : 1.0\n",
    "#              last_letter = 'p'              male : female =     10.6 : 1.0\n",
    "#              last_letter = 'w'              male : female =     10.6 : 1.0\n",
    "\n"
   ]
  },
  {
   "cell_type": "markdown",
   "metadata": {},
   "source": [
    "### 위의 사항에 대한 정리\n",
    "\n",
    "#### 이름 글자의 마지막을 통계적으로 산출하여 입력된 분류기로 분류하는 방법\n",
    "#### 정확한 분류로 볼수는 없어 보임\n"
   ]
  },
  {
   "cell_type": "code",
   "execution_count": 50,
   "metadata": {
    "collapsed": false
   },
   "outputs": [
    {
     "name": "stdout",
     "output_type": "stream",
     "text": [
      "female\n",
      "female\n",
      "0.72\n",
      "Most Informative Features\n",
      "             last_letter = 'ard'            male : female =     29.5 : 1.0\n",
      "             last_letter = 'ana'          female : male   =     26.4 : 1.0\n",
      "             last_letter = 'tta'          female : male   =     25.5 : 1.0\n",
      "             last_letter = 'nne'          female : male   =     20.5 : 1.0\n",
      "             last_letter = 'old'            male : female =     16.1 : 1.0\n"
     ]
    }
   ],
   "source": [
    "\n",
    "from nltk.classify import apply_features\n",
    "train_set = apply_features(gender_features, names[500:])\n",
    "test_set = apply_features(gender_features, names[:500])\n",
    "\n",
    "classifier = nltk.NaiveBayesClassifier.train(train_set)\n",
    "\n",
    "print ( classifier.classify(gender_features('Neo')) )\n",
    "# 'male'\n",
    "print ( classifier.classify(gender_features('Trinity')) )\n",
    "# 'female'\n",
    "print ( nltk.classify.accuracy(classifier, test_set) )\n",
    "# 0.758\n",
    "classifier.show_most_informative_features(5)\n"
   ]
  },
  {
   "cell_type": "code",
   "execution_count": 51,
   "metadata": {
    "collapsed": false
   },
   "outputs": [
    {
     "name": "stdout",
     "output_type": "stream",
     "text": [
      "{'count(v)': 0, 'count(b)': 0, 'count(l)': 0, 'count(k)': 0, 'has(r)': False, 'has(t)': False, 'coun\n",
      "0.794\n",
      "0.751\n",
      "correct=female   guess=male     name=Agace                         \n",
      "correct=female   guess=male     name=Aimil                         \n",
      "correct=female   guess=male     name=Angel                         \n",
      "correct=female   guess=male     name=Britt                         \n",
      "correct=female   guess=male     name=Brook                         \n",
      "0.77\n"
     ]
    }
   ],
   "source": [
    "def gender_features2(name):\n",
    "    features = {}\n",
    "    features[\"firstletter\"] = name[0].lower()\n",
    "    features[\"lastletter\"] = name[-1].lower()\n",
    "    for letter in 'abcdefghijklmnopqrstuvwxyz':\n",
    "        features[\"count(%s)\" % letter] = name.lower().count(letter)\n",
    "        features[\"has(%s)\" % letter] = (letter in name.lower())\n",
    "    return features\n",
    "\n",
    "print (str(gender_features2('John'))[0:100])\n",
    "# {'count(j)': 1, 'has(d)': False, 'count(b)': 0, ...}\n",
    "\n",
    "\n",
    "\n",
    "random.shuffle(names)\n",
    "featuresets = [(gender_features2(n), g) for (n,g) in names]\n",
    "train_set, test_set = featuresets[500:], featuresets[:500]\n",
    "classifier = nltk.NaiveBayesClassifier.train(train_set)\n",
    "print ( nltk.classify.accuracy(classifier, test_set) )\n",
    "# 0.748\n",
    "\n",
    "\n",
    "random.shuffle(names)\n",
    "train_names = names[1500:]\n",
    "devtest_names = names[500:1500]\n",
    "test_names = names[:500]\n",
    "\n",
    "train_set = [(gender_features(n), g) for (n,g) in train_names]\n",
    "devtest_set = [(gender_features(n), g) for (n,g) in devtest_names]\n",
    "test_set = [(gender_features(n), g) for (n,g) in test_names]\n",
    "classifier = nltk.NaiveBayesClassifier.train(train_set) \n",
    "print ( nltk.classify.accuracy(classifier, devtest_set) )\n",
    "# 0.765\n",
    "\n",
    "\"\"\"\n",
    "Generate list of errors.\n",
    "\"\"\"\n",
    "\n",
    "errors = []\n",
    "for (name, tag) in devtest_names:\n",
    "    guess = classifier.classify(gender_features(name))\n",
    "    if guess != tag:\n",
    "        errors.append( (tag, guess, name) )\n",
    "\n",
    "for (tag, guess, name) in sorted(errors)[0:5]: \n",
    "    print ( 'correct=%-8s guess=%-8s name=%-30s' % (tag, guess, name) )\n",
    "# correct=female   guess=male     name=Cindelyn\n",
    "# correct=female   guess=male     name=Katheryn\n",
    "# correct=female   guess=male     name=Kathryn\n",
    "# correct=male     guess=female   name=Aldrich\n",
    "# correct=male     guess=female   name=Mitch\n",
    "# correct=male     guess=female   name=Rich\n",
    "\n",
    "\n",
    "def gender_features(word):\n",
    "    return {'suffix1': word[-1:], 'suffix2': word[-2:]}\n",
    "\n",
    "\n",
    "\n",
    "random.shuffle(names)\n",
    "train_names = names[1500:]\n",
    "devtest_names = names[500:1500]\n",
    "test_names = names[:500]\n",
    "\n",
    "train_set = [(gender_features(n), g) for (n,g) in train_names]\n",
    "devtest_set = [(gender_features(n), g) for (n,g) in devtest_names]\n",
    "classifier = nltk.NaiveBayesClassifier.train(train_set)\n",
    "print ( nltk.classify.accuracy(classifier, devtest_set) )\n",
    "# 0.782\n"
   ]
  }
 ],
 "metadata": {
  "kernelspec": {
   "display_name": "Python 3",
   "language": "python",
   "name": "python3"
  },
  "language_info": {
   "codemirror_mode": {
    "name": "ipython",
    "version": 3
   },
   "file_extension": ".py",
   "mimetype": "text/x-python",
   "name": "python",
   "nbconvert_exporter": "python",
   "pygments_lexer": "ipython3",
   "version": "3.5.3"
  }
 },
 "nbformat": 4,
 "nbformat_minor": 0
}
