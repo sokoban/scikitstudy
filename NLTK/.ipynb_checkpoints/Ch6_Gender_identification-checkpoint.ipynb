{
 "cells": [
  {
   "cell_type": "code",
   "execution_count": 24,
   "metadata": {
    "collapsed": false
   },
   "outputs": [
    {
     "name": "stdout",
     "output_type": "stream",
     "text": [
      "[('Charlton', 'male'), ('Jeffry', 'male'), ('Hill', 'male'), ('Robbyn', 'female'), ('Eleanora', 'female'), ('Petronilla', 'female'), ('Francyne', 'female'), ('Tate', 'female'), ('Rozanne', 'female')]\n"
     ]
    }
   ],
   "source": [
    "\"\"\"\n",
    "Natural Language Processing with Python - Chapter 6\n",
    "\n",
    "http://nltk.org/book/ch06.html\n",
    "\"\"\"\n",
    "\n",
    "import nltk\n",
    "import random\n",
    "#from show import show\n",
    "\n",
    "def gender_features(word):\n",
    "    return {'last_letter': word[-1]}\n",
    "\n",
    "names = ([(name, 'male') for name in nltk.corpus.names.words('male.txt')] + \\\n",
    "        [(name, 'female') for name in nltk.corpus.names.words('female.txt')])\n",
    "random.shuffle(names)\n",
    "#show(names[0:4])\n",
    "\n",
    "print(names[1:10])\n"
   ]
  },
  {
   "cell_type": "code",
   "execution_count": 28,
   "metadata": {
    "collapsed": false
   },
   "outputs": [
    {
     "name": "stdout",
     "output_type": "stream",
     "text": [
      "male\n",
      "female\n",
      "0.774\n",
      "Most Informative Features\n",
      "                 suffix2 = 'na'           female : male   =     98.9 : 1.0\n",
      "                 suffix2 = 'la'           female : male   =     74.8 : 1.0\n",
      "                 suffix2 = 'ia'           female : male   =     40.9 : 1.0\n",
      "                 suffix1 = 'a'            female : male   =     35.9 : 1.0\n",
      "                 suffix2 = 'rd'             male : female =     31.9 : 1.0\n"
     ]
    }
   ],
   "source": [
    "featuresets = [(gender_features(n), g) for (n,g) in names]\n",
    "train_set, test_set = featuresets[500:], featuresets[:500]\n",
    "\n",
    "\n",
    "classifier = nltk.NaiveBayesClassifier.train(train_set)\n",
    "\n",
    "print(classifier.classify(gender_features('Neo')) )\n",
    "# 'male'\n",
    "print( classifier.classify(gender_features('Trinity')) )\n",
    "# 'female'\n",
    "print( nltk.classify.accuracy(classifier, test_set) )\n",
    "# 0.758\n",
    "classifier.show_most_informative_features(5)\n",
    "# Most Informative Features\n",
    "#              last_letter = 'a'            female : male   =     38.3 : 1.0\n",
    "#              last_letter = 'k'              male : female =     31.4 : 1.0\n",
    "#              last_letter = 'f'              male : female =     15.3 : 1.0\n",
    "#              last_letter = 'p'              male : female =     10.6 : 1.0\n",
    "#              last_letter = 'w'              male : female =     10.6 : 1.0\n",
    "\n"
   ]
  },
  {
   "cell_type": "code",
   "execution_count": 25,
   "metadata": {
    "collapsed": false
   },
   "outputs": [
    {
     "name": "stdout",
     "output_type": "stream",
     "text": [
      "male\n",
      "female\n",
      "0.782\n",
      "Most Informative Features\n",
      "             last_letter = 'a'            female : male   =     39.6 : 1.0\n",
      "             last_letter = 'k'              male : female =     30.9 : 1.0\n",
      "             last_letter = 'v'              male : female =     18.8 : 1.0\n",
      "             last_letter = 'f'              male : female =     17.4 : 1.0\n",
      "             last_letter = 'p'              male : female =     11.3 : 1.0\n",
      "{'count(v)': 0, 'count(b)': 0, 'count(l)': 0, 'count(k)': 0, 'has(r)': False, 'has(t)': False, 'coun\n",
      "0.784\n",
      "0.754\n",
      "correct=female   guess=male     name=Abigail                       \n",
      "correct=female   guess=male     name=Adelind                       \n",
      "correct=female   guess=male     name=Aeriel                        \n",
      "correct=female   guess=male     name=Alison                        \n",
      "correct=female   guess=male     name=Allsun                        \n",
      "0.765\n"
     ]
    }
   ],
   "source": [
    "\n",
    "from nltk.classify import apply_features\n",
    "train_set = apply_features(gender_features, names[500:])\n",
    "test_set = apply_features(gender_features, names[:500])\n",
    "\n",
    "classifier = nltk.NaiveBayesClassifier.train(train_set)\n",
    "\n",
    "print ( classifier.classify(gender_features('Neo')) )\n",
    "# 'male'\n",
    "print ( classifier.classify(gender_features('Trinity')) )\n",
    "# 'female'\n",
    "print ( nltk.classify.accuracy(classifier, test_set) )\n",
    "# 0.758\n",
    "classifier.show_most_informative_features(5)\n",
    "# Most Informative Features\n",
    "#              last_letter = 'a'            female : male   =     38.3 : 1.0\n",
    "#              last_letter = 'k'              male : female =     31.4 : 1.0\n",
    "#              last_letter = 'f'              male : female =     15.3 : 1.0\n",
    "#              last_letter = 'p'              male : female =     10.6 : 1.0\n",
    "#              last_letter = 'w'              male : female =     10.6 : 1.0\n",
    "\n",
    "def gender_features2(name):\n",
    "    features = {}\n",
    "    features[\"firstletter\"] = name[0].lower()\n",
    "    features[\"lastletter\"] = name[-1].lower()\n",
    "    for letter in 'abcdefghijklmnopqrstuvwxyz':\n",
    "        features[\"count(%s)\" % letter] = name.lower().count(letter)\n",
    "        features[\"has(%s)\" % letter] = (letter in name.lower())\n",
    "    return features\n",
    "\n",
    "print (str(gender_features2('John'))[0:100])\n",
    "# {'count(j)': 1, 'has(d)': False, 'count(b)': 0, ...}\n",
    "\n",
    "\n",
    "\n",
    "random.shuffle(names)\n",
    "featuresets = [(gender_features2(n), g) for (n,g) in names]\n",
    "train_set, test_set = featuresets[500:], featuresets[:500]\n",
    "classifier = nltk.NaiveBayesClassifier.train(train_set)\n",
    "print ( nltk.classify.accuracy(classifier, test_set) )\n",
    "# 0.748\n",
    "\n",
    "\n",
    "random.shuffle(names)\n",
    "train_names = names[1500:]\n",
    "devtest_names = names[500:1500]\n",
    "test_names = names[:500]\n",
    "\n",
    "train_set = [(gender_features(n), g) for (n,g) in train_names]\n",
    "devtest_set = [(gender_features(n), g) for (n,g) in devtest_names]\n",
    "test_set = [(gender_features(n), g) for (n,g) in test_names]\n",
    "classifier = nltk.NaiveBayesClassifier.train(train_set) \n",
    "print ( nltk.classify.accuracy(classifier, devtest_set) )\n",
    "# 0.765\n",
    "\n",
    "\"\"\"\n",
    "Generate list of errors.\n",
    "\"\"\"\n",
    "\n",
    "errors = []\n",
    "for (name, tag) in devtest_names:\n",
    "    guess = classifier.classify(gender_features(name))\n",
    "    if guess != tag:\n",
    "        errors.append( (tag, guess, name) )\n",
    "\n",
    "for (tag, guess, name) in sorted(errors)[0:5]: \n",
    "    print ( 'correct=%-8s guess=%-8s name=%-30s' % (tag, guess, name) )\n",
    "# correct=female   guess=male     name=Cindelyn\n",
    "# correct=female   guess=male     name=Katheryn\n",
    "# correct=female   guess=male     name=Kathryn\n",
    "# correct=male     guess=female   name=Aldrich\n",
    "# correct=male     guess=female   name=Mitch\n",
    "# correct=male     guess=female   name=Rich\n",
    "\n",
    "\n",
    "def gender_features(word):\n",
    "    return {'suffix1': word[-1:], 'suffix2': word[-2:]}\n",
    "\n",
    "\n",
    "\n",
    "random.shuffle(names)\n",
    "train_names = names[1500:]\n",
    "devtest_names = names[500:1500]\n",
    "test_names = names[:500]\n",
    "\n",
    "train_set = [(gender_features(n), g) for (n,g) in train_names]\n",
    "devtest_set = [(gender_features(n), g) for (n,g) in devtest_names]\n",
    "classifier = nltk.NaiveBayesClassifier.train(train_set)\n",
    "print ( nltk.classify.accuracy(classifier, devtest_set) )\n",
    "# 0.782\n"
   ]
  }
 ],
 "metadata": {
  "kernelspec": {
   "display_name": "Python 3",
   "language": "python",
   "name": "python3"
  },
  "language_info": {
   "codemirror_mode": {
    "name": "ipython",
    "version": 3
   },
   "file_extension": ".py",
   "mimetype": "text/x-python",
   "name": "python",
   "nbconvert_exporter": "python",
   "pygments_lexer": "ipython3",
   "version": "3.5.3"
  }
 },
 "nbformat": 4,
 "nbformat_minor": 0
}
