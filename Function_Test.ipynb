{
 "cells": [
  {
   "cell_type": "code",
   "execution_count": 8,
   "metadata": {
    "collapsed": false
   },
   "outputs": [
    {
     "name": "stdout",
     "output_type": "stream",
     "text": [
      "KR\n",
      "Republic of Korea\n",
      "Seoul\n",
      "11\n",
      "Seoul\n",
      "None\n",
      "37.5111\n",
      "126.9743\n"
     ]
    }
   ],
   "source": [
    "import geoip2.database\n",
    "\n",
    "reader = geoip2.database.Reader('/opt/geoip/GeoLite2-City.mmdb')\n",
    "\n",
    "response = reader.city('221.143.42.85')\n",
    "print(response.country.iso_code)\n",
    "print(response.country.name)\n",
    "print(response.subdivisions.most_specific.name)\n",
    "print(response.subdivisions.most_specific.iso_code)\n",
    "print(response.city.name)\n",
    "print(response.postal.code)\n",
    "print(response.location.latitude)\n",
    "print(response.location.longitude)\n"
   ]
  },
  {
   "cell_type": "code",
   "execution_count": 9,
   "metadata": {
    "collapsed": false
   },
   "outputs": [
    {
     "name": "stdout",
     "output_type": "stream",
     "text": [
      "KR\n",
      "Republic of Korea\n",
      "Incheon\n",
      "28\n",
      "Incheon\n",
      "None\n",
      "37.4536\n",
      "126.7317\n"
     ]
    }
   ],
   "source": [
    "response = reader.city('122.35.243.225')\n",
    "print(response.country.iso_code)\n",
    "print(response.country.name)\n",
    "print(response.subdivisions.most_specific.name)\n",
    "print(response.subdivisions.most_specific.iso_code)\n",
    "print(response.city.name)\n",
    "print(response.postal.code)\n",
    "print(response.location.latitude)\n",
    "print(response.location.longitude)"
   ]
  },
  {
   "cell_type": "code",
   "execution_count": null,
   "metadata": {
    "collapsed": true
   },
   "outputs": [],
   "source": [
    "reader.close()"
   ]
  }
 ],
 "metadata": {
  "kernelspec": {
   "display_name": "Python 3",
   "language": "python",
   "name": "python3"
  },
  "language_info": {
   "codemirror_mode": {
    "name": "ipython",
    "version": 3
   },
   "file_extension": ".py",
   "mimetype": "text/x-python",
   "name": "python",
   "nbconvert_exporter": "python",
   "pygments_lexer": "ipython3",
   "version": "3.5.3"
  }
 },
 "nbformat": 4,
 "nbformat_minor": 0
}
