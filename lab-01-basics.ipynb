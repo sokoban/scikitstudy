{
 "cells": [
  {
   "cell_type": "markdown",
   "metadata": {
    "slideshow": {
     "slide_type": "slide"
    }
   },
   "source": [
    "# Getting Started With TensorFlow\n",
    "https://www.tensorflow.org/get_started/get_started"
   ]
  },
  {
   "cell_type": "markdown",
   "metadata": {},
   "source": [
    "## Check TF version"
   ]
  },
  {
   "cell_type": "markdown",
   "metadata": {},
   "source": [
    "This is sample\n",
    "\n",
    "강의 동영상은 아래 링크로\n",
    "https://www.youtube.com/watch?v=mQGwjrStQgg&index=5&list=PLlMkM4tgfjnLSOjrEJN31gZATbcj_MpUm\n",
    "\n",
    "Tensorflow Mechanics\n",
    "1 build graph using tensorflow operations 그래프를 정리한다.\n",
    "2 feed data and run graph sess.run 데이터를 주고 그래프를 실행한다.\n",
    "3 update variables in the graph \n"
   ]
  },
  {
   "cell_type": "code",
   "execution_count": 2,
   "metadata": {
    "slideshow": {
     "slide_type": "slide"
    }
   },
   "outputs": [
    {
     "data": {
      "text/plain": [
       "'1.1.0'"
      ]
     },
     "execution_count": 2,
     "metadata": {},
     "output_type": "execute_result"
    }
   ],
   "source": [
    "import tensorflow as tf\n",
    "tf.__version__"
   ]
  },
  {
   "cell_type": "markdown",
   "metadata": {},
   "source": [
    "## Hello TensorFlow!"
   ]
  },
  {
   "cell_type": "code",
   "execution_count": 2,
   "metadata": {},
   "outputs": [
    {
     "name": "stdout",
     "output_type": "stream",
     "text": [
      "Hello, TensorFlow!\n"
     ]
    }
   ],
   "source": [
    "# Create a constant op\n",
    "# This op is added as a node to the default graph\n",
    "hello = tf.constant(\"Hello, TensorFlow!\")\n",
    "\n",
    "# start a TF session\n",
    "sess = tf.Session()\n",
    "\n",
    "# run the op and get result\n",
    "print(sess.run(hello))"
   ]
  },
  {
   "cell_type": "markdown",
   "metadata": {
    "slideshow": {
     "slide_type": "slide"
    }
   },
   "source": [
    "## Tensors"
   ]
  },
  {
   "cell_type": "code",
   "execution_count": 3,
   "metadata": {
    "slideshow": {
     "slide_type": "slide"
    }
   },
   "outputs": [
    {
     "data": {
      "text/plain": [
       "[[[1.0, 2.0, 3.0]], [[7.0, 8.0, 9.0]]]"
      ]
     },
     "execution_count": 3,
     "metadata": {},
     "output_type": "execute_result"
    }
   ],
   "source": [
    "3 # a rank 0 tensor; this is a scalar with shape []\n",
    "[1. ,2., 3.] # a rank 1 tensor; this is a vector with shape [3]\n",
    "[[1., 2., 3.], [4., 5., 6.]] # a rank 2 tensor; a matrix with shape [2, 3]\n",
    "[[[1., 2., 3.]], [[7., 8., 9.]]] # a rank 3 tensor with shape [2, 1, 3]"
   ]
  },
  {
   "cell_type": "markdown",
   "metadata": {},
   "source": [
    "## Computational Graph"
   ]
  },
  {
   "cell_type": "code",
   "execution_count": 3,
   "metadata": {
    "collapsed": true
   },
   "outputs": [],
   "source": [
    "node1 = tf.constant(3.0, tf.float32)\n",
    "node2 = tf.constant(4.0) # also tf.float32 implicitly\n",
    "node3 = tf.add(node1, node2)"
   ]
  },
  {
   "cell_type": "code",
   "execution_count": 5,
   "metadata": {
    "scrolled": false
   },
   "outputs": [
    {
     "name": "stdout",
     "output_type": "stream",
     "text": [
      "('node1:', <tf.Tensor 'Const_1:0' shape=() dtype=float32>, 'node2:', <tf.Tensor 'Const_2:0' shape=() dtype=float32>)\n",
      "('node3: ', <tf.Tensor 'Add:0' shape=() dtype=float32>)\n"
     ]
    }
   ],
   "source": [
    "print(\"node1:\", node1, \"node2:\", node2)\n",
    "print(\"node3: \", node3)"
   ]
  },
  {
   "cell_type": "markdown",
   "metadata": {},
   "source": [
    "![Graph](https://www.tensorflow.org/images/getting_started_adder.png)"
   ]
  },
  {
   "cell_type": "code",
   "execution_count": 6,
   "metadata": {
    "scrolled": true
   },
   "outputs": [
    {
     "name": "stdout",
     "output_type": "stream",
     "text": [
      "('sess.run(node1, node2): ', [3.0, 4.0])\n",
      "('sess.run(node3): ', 7.0)\n"
     ]
    }
   ],
   "source": [
    "sess = tf.Session()\n",
    "print(\"sess.run(node1, node2): \", sess.run([node1, node2]))\n",
    "print(\"sess.run(node3): \", sess.run(node3))"
   ]
  },
  {
   "cell_type": "code",
   "execution_count": 14,
   "metadata": {},
   "outputs": [
    {
     "name": "stdout",
     "output_type": "stream",
     "text": [
      "7.5\n",
      "[ 3.  7.]\n"
     ]
    }
   ],
   "source": [
    "a = tf.placeholder(tf.float32)\n",
    "b = tf.placeholder(tf.float32)\n",
    "adder_node = a + b  # + provides a shortcut for tf.add(a, b)\n",
    "\n",
    "print(sess.run(adder_node, feed_dict={a: 3, b: 4.5}))\n",
    "print(sess.run(adder_node, feed_dict={a: [1,3], b: [2, 4]}))"
   ]
  },
  {
   "cell_type": "code",
   "execution_count": 8,
   "metadata": {
    "scrolled": true
   },
   "outputs": [
    {
     "name": "stdout",
     "output_type": "stream",
     "text": [
      "22.5\n"
     ]
    }
   ],
   "source": [
    "add_and_triple = adder_node * 3.\n",
    "print(sess.run(add_and_triple, feed_dict={a: 3, b:4.5}))"
   ]
  },
  {
   "cell_type": "code",
   "execution_count": 13,
   "metadata": {
    "collapsed": true
   },
   "outputs": [],
   "source": [
    "##Linear Regression tensorflow variable"
   ]
  },
  {
   "cell_type": "code",
   "execution_count": 7,
   "metadata": {},
   "outputs": [
    {
     "name": "stdout",
     "output_type": "stream",
     "text": [
      "[1, 2, 3]\n",
      "[1, 2, 3]\n",
      "<tf.Variable 'weight_2:0' shape=(1,) dtype=float32_ref>\n",
      "<tf.Variable 'bias_2:0' shape=(1,) dtype=float32_ref>\n",
      "Tensor(\"add_2:0\", shape=(3,), dtype=float32)\n"
     ]
    }
   ],
   "source": [
    "x_train = [1,2,3]\n",
    "y_train = [1,2,3]\n",
    "#Trainable Variable\n",
    "\n",
    "W = tf.Variable(tf.random_normal([1]), name='weight')\n",
    "b = tf.Variable(tf.random_normal([1]), name='bias')\n",
    "\n",
    "\n",
    "print(x_train)\n",
    "print(y_train)\n",
    "print(W)\n",
    "print(b)\n",
    "\n",
    "\n",
    "hypothesis = x_train * W + b\n",
    "print(hypothesis)"
   ]
  },
  {
   "cell_type": "code",
   "execution_count": 9,
   "metadata": {
    "collapsed": true
   },
   "outputs": [],
   "source": [
    "cost = tf.reduce_mean(tf.square(hypothesis - y_train))\n",
    "\n",
    "optimizer = tf.train.GradientDescentOptimizer(learning_rate=0.01)\n",
    "train = optimizer.minimize(cost)\n"
   ]
  },
  {
   "cell_type": "code",
   "execution_count": 10,
   "metadata": {},
   "outputs": [
    {
     "name": "stdout",
     "output_type": "stream",
     "text": [
      "(0, 2.2936027, array([ 0.1357955], dtype=float32), array([ 0.38837048], dtype=float32))\n",
      "(20, 0.074279509, array([ 0.67473114], dtype=float32), array([ 0.58933085], dtype=float32))\n",
      "(40, 0.04924858, array([ 0.73746729], dtype=float32), array([ 0.58250779], dtype=float32))\n",
      "(60, 0.044563215, array([ 0.75432348], dtype=float32), array([ 0.55711973], dtype=float32))\n",
      "(80, 0.040471531, array([ 0.76629955], dtype=float32), array([ 0.5311265], dtype=float32))\n",
      "(100, 0.036756914, array([ 0.7773236], dtype=float32), array([ 0.50618345], dtype=float32))\n",
      "(120, 0.033383194, array([ 0.78779256], dtype=float32), array([ 0.48239639], dtype=float32))\n",
      "(140, 0.030319171, array([ 0.79776579], dtype=float32), array([ 0.45972574], dtype=float32))\n",
      "(160, 0.027536323, array([ 0.80727011], dtype=float32), array([ 0.43812037], dtype=float32))\n",
      "(180, 0.025008937, array([ 0.81632769], dtype=float32), array([ 0.41753027], dtype=float32))\n",
      "(200, 0.02271352, array([ 0.8249597], dtype=float32), array([ 0.39790791], dtype=float32))\n",
      "(220, 0.020628778, array([ 0.83318591], dtype=float32), array([ 0.37920764], dtype=float32))\n",
      "(240, 0.01873539, array([ 0.84102559], dtype=float32), array([ 0.3613863], dtype=float32))\n",
      "(260, 0.017015781, array([ 0.84849674], dtype=float32), array([ 0.34440255], dtype=float32))\n",
      "(280, 0.015454005, array([ 0.85561681], dtype=float32), array([ 0.32821685], dtype=float32))\n",
      "(300, 0.014035597, array([ 0.86240232], dtype=float32), array([ 0.31279188], dtype=float32))\n",
      "(320, 0.012747321, array([ 0.86886895], dtype=float32), array([ 0.2980918], dtype=float32))\n",
      "(340, 0.01157732, array([ 0.87503159], dtype=float32), array([ 0.28408259], dtype=float32))\n",
      "(360, 0.010514718, array([ 0.88090467], dtype=float32), array([ 0.27073175], dtype=float32))\n",
      "(380, 0.0095496411, array([ 0.88650173], dtype=float32), array([ 0.25800836], dtype=float32))\n",
      "(400, 0.0086731287, array([ 0.89183575], dtype=float32), array([ 0.24588284], dtype=float32))\n",
      "(420, 0.0078770695, array([ 0.89691901], dtype=float32), array([ 0.23432721], dtype=float32))\n",
      "(440, 0.0071540768, array([ 0.9017635], dtype=float32), array([ 0.22331469], dtype=float32))\n",
      "(460, 0.0064974502, array([ 0.90638018], dtype=float32), array([ 0.21281973], dtype=float32))\n",
      "(480, 0.005901082, array([ 0.91078007], dtype=float32), array([ 0.20281793], dtype=float32))\n",
      "(500, 0.0053594634, array([ 0.91497308], dtype=float32), array([ 0.19328624], dtype=float32))\n",
      "(520, 0.0048675528, array([ 0.91896915], dtype=float32), array([ 0.18420251], dtype=float32))\n",
      "(540, 0.0044207806, array([ 0.92277718], dtype=float32), array([ 0.17554562], dtype=float32))\n",
      "(560, 0.004015028, array([ 0.92640632], dtype=float32), array([ 0.16729563], dtype=float32))\n",
      "(580, 0.003646509, array([ 0.929865], dtype=float32), array([ 0.15943334], dtype=float32))\n",
      "(600, 0.003311815, array([ 0.93316108], dtype=float32), array([ 0.15194057], dtype=float32))\n",
      "(620, 0.0030078441, array([ 0.93630224], dtype=float32), array([ 0.14479992], dtype=float32))\n",
      "(640, 0.0027317761, array([ 0.93929583], dtype=float32), array([ 0.13799487], dtype=float32))\n",
      "(660, 0.0024810473, array([ 0.94214869], dtype=float32), array([ 0.13150962], dtype=float32))\n",
      "(680, 0.0022533245, array([ 0.94486749], dtype=float32), array([ 0.1253292], dtype=float32))\n",
      "(700, 0.0020465103, array([ 0.94745845], dtype=float32), array([ 0.11943918], dtype=float32))\n",
      "(720, 0.0018586647, array([ 0.94992787], dtype=float32), array([ 0.11382593], dtype=float32))\n",
      "(740, 0.00168807, array([ 0.95228106], dtype=float32), array([ 0.10847647], dtype=float32))\n",
      "(760, 0.0015331293, array([ 0.95452362], dtype=float32), array([ 0.10337847], dtype=float32))\n",
      "(780, 0.0013924121, array([ 0.95666087], dtype=float32), array([ 0.09852006], dtype=float32))\n",
      "(800, 0.0012646151, array([ 0.95869762], dtype=float32), array([ 0.09388999], dtype=float32))\n",
      "(820, 0.0011485416, array([ 0.9606387], dtype=float32), array([ 0.08947749], dtype=float32))\n",
      "(840, 0.0010431254, array([ 0.96248853], dtype=float32), array([ 0.08527233], dtype=float32))\n",
      "(860, 0.00094738277, array([ 0.9642514], dtype=float32), array([ 0.08126488], dtype=float32))\n",
      "(880, 0.00086042611, array([ 0.96593148], dtype=float32), array([ 0.07744575], dtype=float32))\n",
      "(900, 0.00078145717, array([ 0.96753258], dtype=float32), array([ 0.07380609], dtype=float32))\n",
      "(920, 0.00070972816, array([ 0.96905833], dtype=float32), array([ 0.07033753], dtype=float32))\n",
      "(940, 0.00064459059, array([ 0.97051257], dtype=float32), array([ 0.06703195], dtype=float32))\n",
      "(960, 0.00058542634, array([ 0.97189838], dtype=float32), array([ 0.06388167], dtype=float32))\n",
      "(980, 0.00053169153, array([ 0.97321904], dtype=float32), array([ 0.06087947], dtype=float32))\n",
      "(1000, 0.00048289113, array([ 0.97447759], dtype=float32), array([ 0.05801837], dtype=float32))\n",
      "(1020, 0.00043857261, array([ 0.97567701], dtype=float32), array([ 0.05529175], dtype=float32))\n",
      "(1040, 0.00039831549, array([ 0.97682011], dtype=float32), array([ 0.05269325], dtype=float32))\n",
      "(1060, 0.00036176061, array([ 0.97790945], dtype=float32), array([ 0.05021689], dtype=float32))\n",
      "(1080, 0.00032855687, array([ 0.97894758], dtype=float32), array([ 0.0478569], dtype=float32))\n",
      "(1100, 0.00029840146, array([ 0.97993702], dtype=float32), array([ 0.04560784], dtype=float32))\n",
      "(1120, 0.00027101295, array([ 0.98087996], dtype=float32), array([ 0.04346443], dtype=float32))\n",
      "(1140, 0.00024613857, array([ 0.9817785], dtype=float32), array([ 0.04142175], dtype=float32))\n",
      "(1160, 0.00022354466, array([ 0.98263484], dtype=float32), array([ 0.03947509], dtype=float32))\n",
      "(1180, 0.00020302746, array([ 0.98345095], dtype=float32), array([ 0.0376199], dtype=float32))\n",
      "(1200, 0.00018439167, array([ 0.98422867], dtype=float32), array([ 0.03585192], dtype=float32))\n",
      "(1220, 0.00016746727, array([ 0.98496991], dtype=float32), array([ 0.03416702], dtype=float32))\n",
      "(1240, 0.00015209717, array([ 0.98567623], dtype=float32), array([ 0.03256128], dtype=float32))\n",
      "(1260, 0.00013813692, array([ 0.9863494], dtype=float32), array([ 0.03103102], dtype=float32))\n",
      "(1280, 0.000125459, array([ 0.98699093], dtype=float32), array([ 0.02957267], dtype=float32))\n",
      "(1300, 0.00011394313, array([ 0.98760229], dtype=float32), array([ 0.02818287], dtype=float32))\n",
      "(1320, 0.00010348633, array([ 0.98818493], dtype=float32), array([ 0.02685839], dtype=float32))\n",
      "(1340, 9.3988456e-05, array([ 0.98874015], dtype=float32), array([ 0.02559616], dtype=float32))\n",
      "(1360, 8.5360312e-05, array([ 0.98926932], dtype=float32), array([ 0.02439327], dtype=float32))\n",
      "(1380, 7.75273e-05, array([ 0.98977363], dtype=float32), array([ 0.02324688], dtype=float32))\n",
      "(1400, 7.0410075e-05, array([ 0.9902544], dtype=float32), array([ 0.02215432], dtype=float32))\n",
      "(1420, 6.3947293e-05, array([ 0.99071229], dtype=float32), array([ 0.02111311], dtype=float32))\n",
      "(1440, 5.8078556e-05, array([ 0.99114883], dtype=float32), array([ 0.02012086], dtype=float32))\n",
      "(1460, 5.2746716e-05, array([ 0.99156481], dtype=float32), array([ 0.01917524], dtype=float32))\n",
      "(1480, 4.7905934e-05, array([ 0.99196124], dtype=float32), array([ 0.01827407], dtype=float32))\n",
      "(1500, 4.3509539e-05, array([ 0.99233902], dtype=float32), array([ 0.01741523], dtype=float32))\n",
      "(1520, 3.9515977e-05, array([ 0.99269903], dtype=float32), array([ 0.0165968], dtype=float32))\n",
      "(1540, 3.5888075e-05, array([ 0.99304211], dtype=float32), array([ 0.01581682], dtype=float32))\n",
      "(1560, 3.259418e-05, array([ 0.99336916], dtype=float32), array([ 0.01507349], dtype=float32))\n",
      "(1580, 2.960275e-05, array([ 0.99368078], dtype=float32), array([ 0.01436508], dtype=float32))\n",
      "(1600, 2.6885931e-05, array([ 0.99397779], dtype=float32), array([ 0.01368997], dtype=float32))\n",
      "(1620, 2.441849e-05, array([ 0.99426079], dtype=float32), array([ 0.0130466], dtype=float32))\n",
      "(1640, 2.2176684e-05, array([ 0.9945305], dtype=float32), array([ 0.01243345], dtype=float32))\n",
      "(1660, 2.0141139e-05, array([ 0.99478751], dtype=float32), array([ 0.01184913], dtype=float32))\n",
      "(1680, 1.8293264e-05, array([ 0.99503249], dtype=float32), array([ 0.01129229], dtype=float32))\n",
      "(1700, 1.6614167e-05, array([ 0.99526596], dtype=float32), array([ 0.01076159], dtype=float32))\n",
      "(1720, 1.5089153e-05, array([ 0.99548846], dtype=float32), array([ 0.01025583], dtype=float32))\n"
     ]
    },
    {
     "name": "stdout",
     "output_type": "stream",
     "text": [
      "(1740, 1.3703694e-05, array([ 0.99570048], dtype=float32), array([ 0.00977385], dtype=float32))\n",
      "(1760, 1.2446329e-05, array([ 0.99590254], dtype=float32), array([ 0.00931452], dtype=float32))\n",
      "(1780, 1.1303797e-05, array([ 0.99609512], dtype=float32), array([ 0.00887676], dtype=float32))\n",
      "(1800, 1.0266539e-05, array([ 0.99627858], dtype=float32), array([ 0.0084596], dtype=float32))\n",
      "(1820, 9.324187e-06, array([ 0.99645346], dtype=float32), array([ 0.00806204], dtype=float32))\n",
      "(1840, 8.4682206e-06, array([ 0.99662018], dtype=float32), array([ 0.00768316], dtype=float32))\n",
      "(1860, 7.6911165e-06, array([ 0.99677896], dtype=float32), array([ 0.00732209], dtype=float32))\n",
      "(1880, 6.9853027e-06, array([ 0.99693036], dtype=float32), array([ 0.00697799], dtype=float32))\n",
      "(1900, 6.3440671e-06, array([ 0.99707466], dtype=float32), array([ 0.00665003], dtype=float32))\n",
      "(1920, 5.7619059e-06, array([ 0.99721211], dtype=float32), array([ 0.00633751], dtype=float32))\n",
      "(1940, 5.2329929e-06, array([ 0.99734312], dtype=float32), array([ 0.00603966], dtype=float32))\n",
      "(1960, 4.7524904e-06, array([ 0.99746799], dtype=float32), array([ 0.00575583], dtype=float32))\n",
      "(1980, 4.3164041e-06, array([ 0.99758697], dtype=float32), array([ 0.00548534], dtype=float32))\n",
      "(2000, 3.9201877e-06, array([ 0.99770039], dtype=float32), array([ 0.00522756], dtype=float32))\n"
     ]
    }
   ],
   "source": [
    "sess = tf.Session()\n",
    "sess.run(tf.global_variables_initializer())\n",
    "\n",
    "for step in range(2001):\n",
    "        sess.run(train)\n",
    "        if step % 20 == 0:\n",
    "            print(step, sess.run(cost), sess.run(W), sess.run(b))\n",
    "            \n",
    "# 학습이 진행 될수록 코스트는 줄어 든다. "
   ]
  },
  {
   "cell_type": "code",
   "execution_count": null,
   "metadata": {
    "collapsed": true
   },
   "outputs": [],
   "source": [
    "X = tf.placeholder(tf.float32)\n",
    "Y = tf.placeholder(tf.float32)\n",
    "\n",
    "for step in range(2001):\n",
    "        cost_val, W_val, b_val, _\n",
    "        if step % 20 == 0:\n",
    "            print(step, sess.run(cost), sess.run(W), sess.run(b))"
   ]
  }
 ],
 "metadata": {
  "celltoolbar": "Raw Cell Format",
  "kernelspec": {
   "display_name": "Python 2",
   "language": "python",
   "name": "python2"
  },
  "language_info": {
   "codemirror_mode": {
    "name": "ipython",
    "version": 2
   },
   "file_extension": ".py",
   "mimetype": "text/x-python",
   "name": "python",
   "nbconvert_exporter": "python",
   "pygments_lexer": "ipython2",
   "version": "2.7.5"
  }
 },
 "nbformat": 4,
 "nbformat_minor": 1
}
