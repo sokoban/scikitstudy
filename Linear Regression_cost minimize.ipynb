{
 "cells": [
  {
   "cell_type": "markdown",
   "metadata": {},
   "source": [
    "# Stanford Machine Learning"
   ]
  },
  {
   "cell_type": "markdown",
   "metadata": {},
   "source": [
    "\n",
    "Sample Code\n",
    "\n",
    "http://www.holehouse.org/mlclass/\n"
   ]
  },
  {
   "cell_type": "markdown",
   "metadata": {
    "collapsed": true
   },
   "source": [
    "\n",
    "What cost(W) looks like?\n",
    "\n",
    "W=1, cost(W) = 0\n",
    "W=0, cost(W)=4.67\n",
    "W=2, cost(W)=4.67\n",
    "\n",
    "cost가 최소화 되는 지점을 찾는다.\n",
    "- Gradient descent algorithm을 이용한다.\n",
    "\n",
    "\n",
    "경사 하강 알고리즘\n",
    "- 경사하강 알고리즘은 최소화 문제에 많이 사용됨\n",
    "\n",
    "주어진 cost 함수에서 cost(W,b)\n",
    "W: , b: \n",
    "\n",
    "\n"
   ]
  },
  {
   "cell_type": "code",
   "execution_count": 4,
   "metadata": {},
   "outputs": [
    {
     "name": "stdout",
     "output_type": "stream",
     "text": [
      "Extracting MNIST_data/train-images-idx3-ubyte.gz\n",
      "Extracting MNIST_data/train-labels-idx1-ubyte.gz\n",
      "Extracting MNIST_data/t10k-images-idx3-ubyte.gz\n",
      "Extracting MNIST_data/t10k-labels-idx1-ubyte.gz\n",
      "('Epoch:', '0001', 'cost =', '2.831263767')\n",
      "('Epoch:', '0002', 'cost =', '1.062222571')\n",
      "('Epoch:', '0003', 'cost =', '0.837568888')\n",
      "('Epoch:', '0004', 'cost =', '0.733850752')\n",
      "('Epoch:', '0005', 'cost =', '0.669820367')\n",
      "('Epoch:', '0006', 'cost =', '0.625032725')\n",
      "('Epoch:', '0007', 'cost =', '0.590956042')\n",
      "('Epoch:', '0008', 'cost =', '0.563411049')\n",
      "('Epoch:', '0009', 'cost =', '0.541553208')\n",
      "('Epoch:', '0010', 'cost =', '0.522947048')\n",
      "('Epoch:', '0011', 'cost =', '0.506789322')\n",
      "('Epoch:', '0012', 'cost =', '0.492414035')\n",
      "('Epoch:', '0013', 'cost =', '0.479905934')\n",
      "('Epoch:', '0014', 'cost =', '0.468792126')\n",
      "('Epoch:', '0015', 'cost =', '0.458697898')\n",
      "Learning finished\n",
      "('Accuracy: ', 0.89579999)\n",
      "('Label: ', array([9]))\n",
      "('Prediction: ', array([9]))\n"
     ]
    },
    {
     "data": {
      "text/plain": [
       "'\\nEpoch: 0001 cost = 2.868104637\\nEpoch: 0002 cost = 1.134684615\\nEpoch: 0003 cost = 0.908220728\\nEpoch: 0004 cost = 0.794199896\\nEpoch: 0005 cost = 0.721815854\\nEpoch: 0006 cost = 0.670184430\\nEpoch: 0007 cost = 0.630576546\\nEpoch: 0008 cost = 0.598888191\\nEpoch: 0009 cost = 0.573027079\\nEpoch: 0010 cost = 0.550497213\\nEpoch: 0011 cost = 0.532001859\\nEpoch: 0012 cost = 0.515517795\\nEpoch: 0013 cost = 0.501175288\\nEpoch: 0014 cost = 0.488425370\\nEpoch: 0015 cost = 0.476968593\\nLearning finished\\nAccuracy:  0.888\\n'"
      ]
     },
     "execution_count": 4,
     "metadata": {},
     "output_type": "execute_result"
    }
   ],
   "source": [
    "# Lab 7 Learning rate and Evaluation\n",
    "import tensorflow as tf\n",
    "import random\n",
    "# import matplotlib.pyplot as plt\n",
    "tf.set_random_seed(777)  # for reproducibility\n",
    "\n",
    "from tensorflow.examples.tutorials.mnist import input_data\n",
    "# Check out https://www.tensorflow.org/get_started/mnist/beginners for\n",
    "# more information about the mnist dataset\n",
    "mnist = input_data.read_data_sets(\"MNIST_data/\", one_hot=True)\n",
    "\n",
    "nb_classes = 10\n",
    "\n",
    "# MNIST data image of shape 28 * 28 = 784\n",
    "X = tf.placeholder(tf.float32, [None, 784])\n",
    "# 0 - 9 digits recognition = 10 classes\n",
    "Y = tf.placeholder(tf.float32, [None, nb_classes])\n",
    "\n",
    "W = tf.Variable(tf.random_normal([784, nb_classes]))\n",
    "b = tf.Variable(tf.random_normal([nb_classes]))\n",
    "\n",
    "# Hypothesis (using softmax)\n",
    "hypothesis = tf.nn.softmax(tf.matmul(X, W) + b)\n",
    "\n",
    "cost = tf.reduce_mean(-tf.reduce_sum(Y * tf.log(hypothesis), axis=1))\n",
    "optimizer = tf.train.GradientDescentOptimizer(learning_rate=0.1).minimize(cost)\n",
    "\n",
    "# Test model\n",
    "is_correct = tf.equal(tf.arg_max(hypothesis, 1), tf.arg_max(Y, 1))\n",
    "# Calculate accuracy\n",
    "accuracy = tf.reduce_mean(tf.cast(is_correct, tf.float32))\n",
    "\n",
    "# parameters\n",
    "training_epochs = 15\n",
    "batch_size = 100\n",
    "\n",
    "with tf.Session() as sess:\n",
    "    # Initialize TensorFlow variables\n",
    "    sess.run(tf.global_variables_initializer())\n",
    "    # Training cycle\n",
    "    for epoch in range(training_epochs):\n",
    "        avg_cost = 0\n",
    "        total_batch = int(mnist.train.num_examples / batch_size)\n",
    "\n",
    "        for i in range(total_batch):\n",
    "            batch_xs, batch_ys = mnist.train.next_batch(batch_size)\n",
    "            c, _ = sess.run([cost, optimizer], feed_dict={\n",
    "                            X: batch_xs, Y: batch_ys})\n",
    "            avg_cost += c / total_batch\n",
    "\n",
    "        print('Epoch:', '%04d' % (epoch + 1),\n",
    "              'cost =', '{:.9f}'.format(avg_cost))\n",
    "\n",
    "    print(\"Learning finished\")\n",
    "\n",
    "    # Test the model using test sets\n",
    "    print(\"Accuracy: \", accuracy.eval(session=sess, feed_dict={\n",
    "          X: mnist.test.images, Y: mnist.test.labels}))\n",
    "\n",
    "    # Get one and predict\n",
    "    r = random.randint(0, mnist.test.num_examples - 1)\n",
    "    print(\"Label: \", sess.run(tf.argmax(mnist.test.labels[r:r + 1], 1)))\n",
    "    print(\"Prediction: \", sess.run(\n",
    "        tf.argmax(hypothesis, 1), feed_dict={X: mnist.test.images[r:r + 1]}))\n",
    "\n",
    "    # don't know why this makes Travis Build error.\n",
    "    # plt.imshow(\n",
    "    #     mnist.test.images[r:r + 1].reshape(28, 28),\n",
    "    #     cmap='Greys',\n",
    "    #     interpolation='nearest')\n",
    "    # plt.show()\n",
    "\n",
    "\n",
    "'''\n",
    "Epoch: 0001 cost = 2.868104637\n",
    "Epoch: 0002 cost = 1.134684615\n",
    "Epoch: 0003 cost = 0.908220728\n",
    "Epoch: 0004 cost = 0.794199896\n",
    "Epoch: 0005 cost = 0.721815854\n",
    "Epoch: 0006 cost = 0.670184430\n",
    "Epoch: 0007 cost = 0.630576546\n",
    "Epoch: 0008 cost = 0.598888191\n",
    "Epoch: 0009 cost = 0.573027079\n",
    "Epoch: 0010 cost = 0.550497213\n",
    "Epoch: 0011 cost = 0.532001859\n",
    "Epoch: 0012 cost = 0.515517795\n",
    "Epoch: 0013 cost = 0.501175288\n",
    "Epoch: 0014 cost = 0.488425370\n",
    "Epoch: 0015 cost = 0.476968593\n",
    "Learning finished\n",
    "Accuracy:  0.888\n",
    "'''"
   ]
  }
 ],
 "metadata": {
  "kernelspec": {
   "display_name": "Python 2",
   "language": "python",
   "name": "python2"
  },
  "language_info": {
   "codemirror_mode": {
    "name": "ipython",
    "version": 2
   },
   "file_extension": ".py",
   "mimetype": "text/x-python",
   "name": "python",
   "nbconvert_exporter": "python",
   "pygments_lexer": "ipython2",
   "version": "2.7.5"
  }
 },
 "nbformat": 4,
 "nbformat_minor": 2
}
